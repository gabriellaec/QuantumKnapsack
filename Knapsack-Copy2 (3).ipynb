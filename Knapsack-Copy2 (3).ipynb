{
 "cells": [
  {
   "cell_type": "code",
   "execution_count": 1,
   "id": "0a42f7f9-2509-41f4-8b9f-655b3c6f1a30",
   "metadata": {},
   "outputs": [
    {
     "name": "stderr",
     "output_type": "stream",
     "text": [
      "<frozen importlib._bootstrap>:219: RuntimeWarning: scipy._lib.messagestream.MessageStream size changed, may indicate binary incompatibility. Expected 56 from C header, got 64 from PyObject\n",
      "/tmp/ipykernel_59/971413615.py:13: NatureDeprecationWarning: The qiskit_nature.algorithms.excited_state_solvers package is deprecated as of version 0.5.0 and will be removed no sooner than 3 months after the release. Instead use the qiskit_nature.second_q.algorithms.excited_state_solvers package.\n",
      "  from qiskit_nature.algorithms import (GroundStateEigensolver,\n",
      "/tmp/ipykernel_59/971413615.py:13: NatureDeprecationWarning: The qiskit_nature.algorithms.pes_sampler package is deprecated as of version 0.5.0 and will be removed no sooner than 3 months after the release . Please refer to 'https://github.com/Qiskit/qiskit-nature/issues/750' for additional information regarding 'extrapolators'.\n",
      "  from qiskit_nature.algorithms import (GroundStateEigensolver,\n"
     ]
    }
   ],
   "source": [
    "import numpy as np\n",
    "\n",
    "# Importing standard Qiskit libraries\n",
    "from qiskit import QuantumCircuit, transpile, Aer, IBMQ, QuantumRegister, ClassicalRegister, execute\n",
    "from qiskit.tools.jupyter import *\n",
    "from qiskit.visualization import *\n",
    "from ibm_quantum_widgets import *\n",
    "from qiskit.providers.aer import QasmSimulator\n",
    "from qiskit.circuit.library.basis_change.qft import QFT\n",
    "import math\n",
    "import numpy as np\n",
    "from qiskit.algorithms import VQE\n",
    "from qiskit_nature.algorithms import (GroundStateEigensolver,\n",
    "                                      NumPyMinimumEigensolverFactory)\n",
    "from qiskit_nature.drivers import Molecule\n",
    "from qiskit_nature.drivers.second_quantization import (\n",
    "    ElectronicStructureMoleculeDriver, ElectronicStructureDriverType)\n",
    "from qiskit_nature.transformers.second_quantization.electronic import FreezeCoreTransformer\n",
    "from qiskit_nature.problems.second_quantization import ElectronicStructureProblem\n",
    "from qiskit_nature.converters.second_quantization import QubitConverter\n",
    "from qiskit_nature.mappers.second_quantization import ParityMapper\n",
    "\n",
    "import matplotlib.pyplot as plt\n",
    "import numpy as np\n",
    "from qiskit_nature.circuit.library import UCCSD, HartreeFock\n",
    "from qiskit.circuit.library import EfficientSU2\n",
    "from qiskit.algorithms.optimizers import COBYLA, SPSA, SLSQP\n",
    "from qiskit.opflow import TwoQubitReduction\n",
    "from qiskit import BasicAer, Aer\n",
    "from qiskit.utils import QuantumInstance\n",
    "from qiskit.utils.mitigation import CompleteMeasFitter\n",
    "from qiskit.providers.aer.noise import NoiseModel\n",
    "\n",
    "from qiskit_optimization.algorithms import MinimumEigenOptimizer\n",
    "from qiskit.algorithms import  QAOA, VQE, NumPyMinimumEigensolver\n",
    "from qiskit_optimization.applications import Knapsack\n",
    "from qiskit_optimization.converters import QuadraticProgramToQubo\n",
    "\n",
    "from qiskit.utils import algorithm_globals, QuantumInstance\n",
    "from qiskit.algorithms.optimizers import SPSA\n",
    "from qiskit.circuit.library import TwoLocal\n",
    "from qiskit.utils import algorithm_globals, QuantumInstance\n",
    "\n",
    "import time\n",
    "import itertools\n",
    "\n",
    "# Loading your IBM Quantum account(s)\n",
    "provider = IBMQ.load_account()"
   ]
  },
  {
   "cell_type": "markdown",
   "id": "7973325c-c6be-461a-a227-3eacc4c6b022",
   "metadata": {},
   "source": [
    "# Knapsack Problem"
   ]
  },
  {
   "cell_type": "markdown",
   "id": "770d7801-4dcc-4fda-a94d-2db8d4817ebb",
   "metadata": {},
   "source": [
    "## Problem definition"
   ]
  },
  {
   "cell_type": "markdown",
   "id": "b8fc9dcc-bef3-46e5-99e4-7f388a03ae82",
   "metadata": {},
   "source": [
    "The Knapsack problem is a very famous issue in combinatorial optimization. It works as follows:\n",
    "\n",
    "Given:\n",
    "- A knapsack with a maximum weight\n",
    "- A set of items, each having a corresponding value and weight\n",
    "\n",
    "We need to __determine which items to include in this knapsack__, with the __objective to maximize the value__, while __respecting the weight restriction__. \n",
    "\n",
    "Thus, for each item, we have the option to either include it or not. No items can be broken apart.\n",
    "\n",
    "The Knapsack Problem belongs to the class of Optimization problems, in which we seek the best answer from all feasible solutions."
   ]
  },
  {
   "attachments": {
    "dc1f931b-b952-447b-97b0-8673722e1703.png": {
     "image/png": "[encoded data removed]"
    }
   },
   "cell_type": "markdown",
   "id": "f6d785ba-0e0d-4f3c-bf39-eba147cb0875",
   "metadata": {},
   "source": [
    "![image.png](attachment:dc1f931b-b952-447b-97b0-8673722e1703.png)"
   ]
  },
  {
   "cell_type": "markdown",
   "id": "5eba223c-66ec-4cf9-b233-e4863f4525cf",
   "metadata": {
    "tags": []
   },
   "source": [
    "### Applications\n",
    "\n",
    "Knapsack problem's alike situations appear in a variety of fields. Examples include:\n",
    "* Selection of investments and portfolios\n",
    "* Generating keys for Cryptosystems\n",
    "* Resource management in software\n",
    "* Power allocation management\n",
    "* Waste Management"
   ]
  },
  {
   "cell_type": "markdown",
   "id": "237cf91c-325f-487d-9556-1c0db2bd3bd5",
   "metadata": {},
   "source": [
    "## Classic solution and computational complexity"
   ]
  },
  {
   "cell_type": "markdown",
   "id": "192fc2d2-3b74-4fa5-adf4-e1afcdabc1ca",
   "metadata": {},
   "source": [
    "There are multiple know solutions for the Knapsack problem. The following is an implementation of the Exhaustive Search algorithm, which consists basically of a Brute-Force method with recursion.\n",
    "\n",
    "The time complexity for this implementation is exponential - $O(n^2)$"
   ]
  },
  {
   "cell_type": "code",
   "execution_count": 2,
   "id": "24d0a3ad-b098-4df2-a168-06b081b67fbd",
   "metadata": {},
   "outputs": [],
   "source": [
    "def knapsack(W, wt, val, n):\n",
    "    # https://www.geeksforgeeks.org/0-1-knapsack-problem-dp-10/\n",
    "    \n",
    "    if n == 0 or W == 0:\n",
    "        return 0\n",
    "    if (wt[n-1] > W):\n",
    "        return knapsack(W, wt, val, n-1)\n",
    "    else:\n",
    "        return max( val[n-1] + knapsack(W-wt[n-1], wt, val, n-1),knapsack(W, wt, val, n-1))\n",
    " "
   ]
  },
  {
   "cell_type": "markdown",
   "id": "77e96abe-faf6-403b-a2ae-ee0a92a5b0fa",
   "metadata": {},
   "source": [
    "Let's test this implementation building an example Knapsack"
   ]
  },
  {
   "cell_type": "code",
   "execution_count": 3,
   "id": "f926d00f-ca89-41de-adcd-2ff3429f0c22",
   "metadata": {},
   "outputs": [],
   "source": [
    "def create_knapsack(items, W):\n",
    "    WT = [v[0] for v in items]\n",
    "    VAL = [v[1] for v in items]\n",
    "    return WT, VAL"
   ]
  },
  {
   "cell_type": "code",
   "execution_count": 4,
   "id": "245473fb-082a-4b64-9447-9f6607d82138",
   "metadata": {},
   "outputs": [],
   "source": [
    "knapsack1 = ([(3, 4), (2, 3)], 4)\n",
    "knapsack2 = ([(3, 4), (2, 3), (2, 4)], 4)\n",
    "knapsack3 = ([(3, 3), (2, 2), (2, 4), (5, 2), (5, 10)], 10)\n",
    "knapsack4 = ([(3, 3), (2, 2), (2, 4), (5, 2), (5, 10), (1, 3), (1, 1)], 15)\n",
    "knapsack5 = ([(3, 3), (2, 2), (2, 4), (5, 2), (5, 10), (1, 3), (1, 1), (9, 4), (8, 3)], 15)\n",
    "\n",
    "knapsacks = [knapsack1, knapsack2, knapsack3, knapsack4, knapsack5]"
   ]
  },
  {
   "cell_type": "code",
   "execution_count": 5,
   "id": "4a2d71ff-7620-42f1-8523-5ac93bcc822a",
   "metadata": {},
   "outputs": [],
   "source": [
    "computing_times = []\n",
    "\n",
    "i=1\n",
    "for k in knapsacks:\n",
    "    items = k[0]\n",
    "    W=k[1]\n",
    "    WT, VAL = create_knapsack(items, W)\n",
    "    \n",
    "    start = time.time()\n",
    "    result = knapsack(W, WT, VAL, len(VAL))\n",
    "    computing_times.append((i, result, time.time() - start, len(k[0])))\n",
    "    i+=1\n"
   ]
  },
  {
   "cell_type": "code",
   "execution_count": 6,
   "id": "722375f7-8ef4-43ae-977f-a25e8bff4798",
   "metadata": {},
   "outputs": [
    {
     "name": "stdout",
     "output_type": "stream",
     "text": [
      "Knapsack  1 :    Number of items:  2  |  Value:  4  |  Computing time:  1.1205673217773438e-05\n",
      "Knapsack  2 :    Number of items:  3  |  Value:  7  |  Computing time:  8.821487426757812e-06\n",
      "Knapsack  3 :    Number of items:  5  |  Value:  17  |  Computing time:  2.765655517578125e-05\n",
      "Knapsack  4 :    Number of items:  7  |  Value:  23  |  Computing time:  0.00012826919555664062\n",
      "Knapsack  5 :    Number of items:  9  |  Value:  23  |  Computing time:  0.0002167224884033203\n"
     ]
    }
   ],
   "source": [
    "times = []\n",
    "for t in computing_times:\n",
    "    print(\n",
    "        \"Knapsack \", t[0], \":   \",\n",
    "        \"Number of items: \", t[3], \" | \",\n",
    "        \"Value: \", t[1], \" | \",\n",
    "        \"Computing time: \", t[2]\n",
    "    )\n",
    "    times.append((t[2]))"
   ]
  },
  {
   "cell_type": "code",
   "execution_count": 7,
   "id": "d2e935bd-d36e-4ef4-86bd-016a8b0f4f81",
   "metadata": {},
   "outputs": [
    {
     "data": {
      "text/plain": [
       "[<matplotlib.lines.Line2D at 0x7f2ffa366910>]"
      ]
     },
     "execution_count": 7,
     "metadata": {},
     "output_type": "execute_result"
    },
    {
     "data": {
      "image/png": "[encoded data removed]",
      "text/plain": [
       "<Figure size 432x288 with 1 Axes>"
      ]
     },
     "metadata": {
      "needs_background": "light"
     },
     "output_type": "display_data"
    }
   ],
   "source": [
    "plt.plot(times)"
   ]
  },
  {
   "cell_type": "markdown",
   "id": "bb4b4c74-7300-417d-9284-2315fe795423",
   "metadata": {
    "tags": []
   },
   "source": [
    "## Solution from qiskit optimization libraries"
   ]
  },
  {
   "cell_type": "markdown",
   "id": "17f073db-786c-4995-ae44-85d89bbcc256",
   "metadata": {},
   "source": [
    "### Building a knapsack\n",
    "Qiskit already possesses a built-in library which includes the Knapsack problem.\n",
    "\n",
    "Let's try this library using an example knapsack."
   ]
  },
  {
   "cell_type": "code",
   "execution_count": 8,
   "id": "f05a3206-5462-4694-bd2d-4232c9d1745c",
   "metadata": {},
   "outputs": [],
   "source": [
    "items, W = knapsack2\n",
    "WT, VAL = create_knapsack(items, W)"
   ]
  },
  {
   "cell_type": "code",
   "execution_count": 9,
   "id": "48cbc42c-a738-41a2-9a16-03dbe84f3cf9",
   "metadata": {},
   "outputs": [
    {
     "name": "stdout",
     "output_type": "stream",
     "text": [
      "---------------  Knapsack  --------------- \n",
      " Values:  [4, 3, 4] \n",
      " Weights:  [3, 2, 2] \n",
      " Max Weight:  4\n"
     ]
    }
   ],
   "source": [
    "prob = Knapsack(values = VAL, weights = WT, max_weight=W)\n",
    "print(\n",
    "\"-\"*15, \" Knapsack \" ,\"-\"*15, \"\\n\",\n",
    "\"Values: \", prob._values,\"\\n\",\n",
    "\"Weights: \", prob._weights,\"\\n\",\n",
    "\"Max Weight: \", prob.max_weight,\n",
    "\n",
    ")"
   ]
  },
  {
   "cell_type": "markdown",
   "id": "36e10d7a-a4ca-4dd1-a045-c01d7cfce018",
   "metadata": {},
   "source": [
    "### Transforming to quadratic program\n",
    "The optimization problems in this module are represented with the QuadraticProgram class, which is a generic and powerful representation for optimization problems.\n",
    "\n",
    "https://qiskit.org/documentation/optimization/tutorials/02_converters_for_quadratic_programs.html"
   ]
  },
  {
   "cell_type": "markdown",
   "id": "aa94592e-d24c-49b4-a88f-3e4c9f0dc85a",
   "metadata": {},
   "source": [
    "### Obtaining the Operator"
   ]
  },
  {
   "cell_type": "code",
   "execution_count": 10,
   "id": "08b6b7a9-7ea4-439f-b97e-f6528b763f71",
   "metadata": {},
   "outputs": [],
   "source": [
    "quadratic_program = prob.to_quadratic_program()"
   ]
  },
  {
   "cell_type": "code",
   "execution_count": 11,
   "id": "f7b8ce00-3223-40ff-94ae-c028add0cb6a",
   "metadata": {},
   "outputs": [
    {
     "name": "stdout",
     "output_type": "stream",
     "text": [
      "Problem name: Knapsack\n",
      "\n",
      "Maximize\n",
      "  4*x_0 + 3*x_1 + 4*x_2\n",
      "\n",
      "Subject to\n",
      "  Linear constraints (1)\n",
      "    3*x_0 + 2*x_1 + 2*x_2 <= 4  'c0'\n",
      "\n",
      "  Binary variables (3)\n",
      "    x_0 x_1 x_2\n",
      "\n"
     ]
    }
   ],
   "source": [
    "print(quadratic_program.prettyprint())"
   ]
  },
  {
   "cell_type": "markdown",
   "id": "5a867ce5-993b-460a-a5ab-a7ddf1503cea",
   "metadata": {},
   "source": [
    "We can see that the Quadratic Program is able to efficiently summarize our problem, stating that we need to maximize the values, while subject to the linear constraint related to the weights.\n",
    "\n",
    "Each of this variables (x_i) is a binary representation of an item, indicating whether or not we should include it in the Knapsack. In other words, if a value x_i equals 1, this means we should place the item in the Knapsack.If it is 0, we should not include it in our knapsack.\n",
    "\n",
    "\n",
    "In the problem described above, we wish to maximize the knasack's value. This is expressed by sum of the multiplications between an item's value and its binary representation. \n",
    "\n",
    "For example, the case description above shows we have 3 binary variables: x_0 with the value 4, x_1 with the value 3 and x_2 with the value 4. Therefore, the total value of our knapsack can be expressed as follows:   4 * x_0 + 3 * x_1 + 4 * x_2.\n",
    "\n",
    "So, for example, if our solution is to include items 1 and 2, our resulting expression would be the following: 4 * 0 + 3 * 1 + 4 * 1 = 7. That means, for this solution our knapsack would have the value 7.\n",
    "\n",
    "\n",
    "The linear constrain related to the knapsack's weight restriction can be expressed in a similar way.In this case, the total weight is expressed by sum of the multiplications between an item's weight and its binary representation. This should be smaller than the knapsack's capacity, according to our problem's definition. The resulting expression for our example is as follows:     3 * x_0 + 2 * x_1 + 2 * x_2 <= 4."
   ]
  },
  {
   "cell_type": "code",
   "execution_count": 12,
   "id": "b8c0a39a-4df1-40f7-a851-e7e53b3c1644",
   "metadata": {},
   "outputs": [
    {
     "data": {
      "text/plain": [
       "1"
      ]
     },
     "execution_count": 12,
     "metadata": {},
     "output_type": "execute_result"
    }
   ],
   "source": [
    "quadratic_program.get_num_linear_constraints()"
   ]
  },
  {
   "cell_type": "code",
   "execution_count": 13,
   "id": "21bd647d-bcce-4e89-af01-51bd8c9b3f69",
   "metadata": {},
   "outputs": [
    {
     "data": {
      "text/plain": [
       "[<LinearConstraint: 3*x_0 + 2*x_1 + 2*x_2 <= 4 'c0'>]"
      ]
     },
     "execution_count": 13,
     "metadata": {},
     "output_type": "execute_result"
    }
   ],
   "source": [
    "quadratic_program.linear_constraints"
   ]
  },
  {
   "cell_type": "markdown",
   "id": "00f1eb1e-ed5d-4b36-ba67-cf273e8702ef",
   "metadata": {},
   "source": [
    "Due to this linear constraint, we cannot convert the Quadratic Program to ising directly. However, we can still solve it by converting the problem to a Quadratic Unconstrained Binary Optimization (QUBO). A QUBO empowers quantum computers to find solutions which satisfy the problem's constraints, without forcing these constraints to be true. "
   ]
  },
  {
   "cell_type": "code",
   "execution_count": 14,
   "id": "3e2c9c33-5649-45d0-a6aa-281c64207941",
   "metadata": {},
   "outputs": [
    {
     "name": "stdout",
     "output_type": "stream",
     "text": [
      "\\ This file has been generated by DOcplex\n",
      "\\ ENCODING=ISO-8859-1\n",
      "\\Problem name: Knapsack\n",
      "\n",
      "Minimize\n",
      " obj: - 292 x_0 - 195 x_1 - 196 x_2 - 96 c0@int_slack@0 - 192 c0@int_slack@1\n",
      "      - 96 c0@int_slack@2 + [ 216 x_0^2 + 288 x_0*x_1 + 288 x_0*x_2\n",
      "      + 144 x_0*c0@int_slack@0 + 288 x_0*c0@int_slack@1 + 144 x_0*c0@int_slack@2\n",
      "      + 96 x_1^2 + 192 x_1*x_2 + 96 x_1*c0@int_slack@0 + 192 x_1*c0@int_slack@1\n",
      "      + 96 x_1*c0@int_slack@2 + 96 x_2^2 + 96 x_2*c0@int_slack@0\n",
      "      + 192 x_2*c0@int_slack@1 + 96 x_2*c0@int_slack@2 + 24 c0@int_slack@0^2\n",
      "      + 96 c0@int_slack@0*c0@int_slack@1 + 48 c0@int_slack@0*c0@int_slack@2\n",
      "      + 96 c0@int_slack@1^2 + 96 c0@int_slack@1*c0@int_slack@2\n",
      "      + 24 c0@int_slack@2^2 ]/2 + 192\n",
      "Subject To\n",
      "\n",
      "Bounds\n",
      " 0 <= x_0 <= 1\n",
      " 0 <= x_1 <= 1\n",
      " 0 <= x_2 <= 1\n",
      " 0 <= c0@int_slack@0 <= 1\n",
      " 0 <= c0@int_slack@1 <= 1\n",
      " 0 <= c0@int_slack@2 <= 1\n",
      "\n",
      "Binaries\n",
      " x_0 x_1 x_2 c0@int_slack@0 c0@int_slack@1 c0@int_slack@2\n",
      "End\n",
      "\n"
     ]
    }
   ],
   "source": [
    "qubo = QuadraticProgramToQubo().convert(quadratic_program)\n",
    "print(qubo.export_as_lp_string())"
   ]
  },
  {
   "cell_type": "markdown",
   "id": "0ceab687-036c-4184-801e-44c289cb953e",
   "metadata": {},
   "source": [
    "We can now convert our problem to ising"
   ]
  },
  {
   "cell_type": "code",
   "execution_count": 15,
   "id": "b454f719-242c-4031-bed5-b864ee5c6e27",
   "metadata": {},
   "outputs": [
    {
     "name": "stdout",
     "output_type": "stream",
     "text": [
      "Ising Hamiltonian:\n",
      "-52.0 * IIIIIZ\n",
      "- 34.5 * IIIIZI\n",
      "- 34.0 * IIIZII\n",
      "- 18.0 * IIZIII\n",
      "- 36.0 * IZIIII\n",
      "- 18.0 * ZIIIII\n",
      "+ 36.0 * IIIIZZ\n",
      "+ 36.0 * IIIZIZ\n",
      "+ 24.0 * IIIZZI\n",
      "+ 18.0 * IIZIIZ\n",
      "+ 12.0 * IIZIZI\n",
      "+ 12.0 * IIZZII\n",
      "+ 36.0 * IZIIIZ\n",
      "+ 24.0 * IZIIZI\n",
      "+ 24.0 * IZIZII\n",
      "+ 12.0 * IZZIII\n",
      "+ 18.0 * ZIIIIZ\n",
      "+ 12.0 * ZIIIZI\n",
      "+ 12.0 * ZIIZII\n",
      "+ 6.0 * ZIZIII\n",
      "+ 12.0 * ZZIIII\n"
     ]
    }
   ],
   "source": [
    "operator, offset = qubo.to_ising()\n",
    "print(\"Ising Hamiltonian:\")\n",
    "print(str(operator))"
   ]
  },
  {
   "cell_type": "markdown",
   "id": "377a9d26-9e98-430c-98c0-0b00dd14e002",
   "metadata": {},
   "source": [
    "Finally, we can obtain the matrix related to our problem."
   ]
  },
  {
   "cell_type": "code",
   "execution_count": 16,
   "id": "fcd8a2e7-6539-4ad0-951d-f8385f89e90e",
   "metadata": {},
   "outputs": [
    {
     "data": {
      "text/plain": [
       "array([[101.5+0.j,   0. +0.j,   0. +0.j, ...,   0. +0.j,   0. +0.j,\n",
       "          0. +0.j],\n",
       "       [  0. +0.j, -82.5+0.j,   0. +0.j, ...,   0. +0.j,   0. +0.j,\n",
       "          0. +0.j],\n",
       "       [  0. +0.j,   0. +0.j, -45.5+0.j, ...,   0. +0.j,   0. +0.j,\n",
       "          0. +0.j],\n",
       "       ...,\n",
       "       [  0. +0.j,   0. +0.j,   0. +0.j, ..., 201.5+0.j,   0. +0.j,\n",
       "          0. +0.j],\n",
       "       [  0. +0.j,   0. +0.j,   0. +0.j, ...,   0. +0.j,  94.5+0.j,\n",
       "          0. +0.j],\n",
       "       [  0. +0.j,   0. +0.j,   0. +0.j, ...,   0. +0.j,   0. +0.j,\n",
       "        486.5+0.j]])"
      ]
     },
     "execution_count": 16,
     "metadata": {},
     "output_type": "execute_result"
    }
   ],
   "source": [
    "matrix = operator.to_matrix()\n",
    "matrix"
   ]
  },
  {
   "cell_type": "code",
   "execution_count": null,
   "id": "57d723f4-6917-4e2a-8ae2-964e6c3771ac",
   "metadata": {},
   "outputs": [],
   "source": []
  },
  {
   "cell_type": "markdown",
   "id": "907556c1-be2d-45c2-8ea1-fad6a86e5b89",
   "metadata": {},
   "source": [
    "We can now summarize the process explained above in a single function, to facilitate its use."
   ]
  },
  {
   "cell_type": "code",
   "execution_count": 17,
   "id": "bddf4305-2f40-45f2-ae61-cf425fe6a25c",
   "metadata": {},
   "outputs": [],
   "source": [
    "def get_operator_matrix(prob):\n",
    "    quadratic_program = prob.to_quadratic_program()\n",
    "    qubo = QuadraticProgramToQubo().convert(quadratic_program)\n",
    "    operator, offset = qubo.to_ising()\n",
    "    return qubo, operator, operator.to_matrix()"
   ]
  },
  {
   "cell_type": "code",
   "execution_count": 18,
   "id": "a5921ac5-643f-4b77-bc7c-4a73ce3fbd94",
   "metadata": {},
   "outputs": [
    {
     "name": "stdout",
     "output_type": "stream",
     "text": [
      "Elapsed time:  0.07706809043884277\n"
     ]
    }
   ],
   "source": [
    "start = time.time()\n",
    "qubo, operator, matrix = get_operator_matrix(prob)\n",
    "end = time.time()\n",
    "print(\"Elapsed time: \", end - start)"
   ]
  },
  {
   "cell_type": "markdown",
   "id": "6baa64f5-d148-48b8-86f1-3e558ea36ec0",
   "metadata": {},
   "source": [
    "## Solving the Knapsack with Qiskit's Optimizers"
   ]
  },
  {
   "cell_type": "markdown",
   "id": "ba12c027-db12-48be-90e4-45047d3c19a1",
   "metadata": {
    "tags": []
   },
   "source": [
    "### Solving the problem using NumPyMinimumEigensolver (classical solution)\n",
    "\n",
    "The NumPyMinimumEigensolver searches over feasible states and returns an eigenstate that has the smallest eigenvalue among feasible states. This solver implements a classical approach to find the solution to our problem.\n",
    "It returns a boolean related to each value to indicate whether to consider this value or not."
   ]
  },
  {
   "cell_type": "code",
   "execution_count": 19,
   "id": "19419a68-51d7-44ac-8e1f-dd0b4b9e787e",
   "metadata": {},
   "outputs": [
    {
     "name": "stdout",
     "output_type": "stream",
     "text": [
      "result:\n",
      " fval=7.0, x_0=0.0, x_1=1.0, x_2=1.0, status=SUCCESS\n",
      "\n",
      " index of the chosen items: [1, 2]\n",
      "Elapsed time:  0.08185482025146484\n"
     ]
    }
   ],
   "source": [
    "start = time.time()\n",
    "meo = MinimumEigenOptimizer(min_eigen_solver=NumPyMinimumEigensolver())\n",
    "result = meo.solve(quadratic_program)\n",
    "print('result:\\n', result)\n",
    "print('\\n index of the chosen items:', prob.interpret(result)) \n",
    "print(\"Elapsed time: \", time.time() - start)"
   ]
  },
  {
   "cell_type": "markdown",
   "id": "24a00e6b-f610-4c88-a66b-e6bbc68a9f32",
   "metadata": {
    "tags": []
   },
   "source": [
    "### Solving the problem using QAOA (Quantum Approximate Optimization Algorithm) \n",
    "\n",
    "This algorithm consists of a classical-quantum hybrid technique that can be used to find approximate solutions to combinatorial optimization problems. It is important to state that the QAOA methodology consists of a heuristic algorithm. Thus, it does not necessarily assure the best performance.\n",
    "\n",
    "\n",
    "It is a variational algorithm that uses a unitary to prepare a quantum state. This unitary is characterized by two parameters: ($\\beta$, $\\gamma$). The goal of the algorithm is to find optimal parameters ($\\beta opt$, $\\gamma opt$) so thtat the quantum state with these parameters encodes the solution to the problem.\n",
    "\n",
    "\n",
    "The unitary $U(\\boldsymbol{\\beta}, \\boldsymbol{\\gamma})$ has a specific form and is composed of two unitaries $U(\\boldsymbol{\\beta}) = e^{-i \\boldsymbol{\\beta} H_B}$ and $U(\\boldsymbol{\\gamma}) = e^{-i \\boldsymbol{\\gamma} H_P}$ where $H_{B}$ is the mixing Hamiltonian and $H_{P}$ is the problem Hamiltonian. \n",
    "\n",
    "The state is prepared by applying these unitaries as alternating blocks of the two unitaries applied $p$ times such that \n",
    "\n",
    "$$\\lvert \\psi(\\boldsymbol{\\beta}, \\boldsymbol{\\gamma}) \\rangle = \\underbrace{U(\\boldsymbol{\\beta}) U(\\boldsymbol{\\gamma}) \n",
    "                                            \\cdots U(\\boldsymbol{\\beta}) U(\\boldsymbol{\\gamma})}_{p \\; \\text{times}} \n",
    "\\lvert \\psi_0 \\rangle$$\n",
    "\n",
    "where $|\\psi_{0}\\rangle$ is a suitable initial state.\n",
    "\n",
    "\n",
    "\n",
    "\n",
    "Reference: https://learn.qiskit.org/course/ch-applications/solving-combinatorial-optimization-problems-using-qaoa"
   ]
  },
  {
   "cell_type": "code",
   "execution_count": 30,
   "id": "8568b119-30ae-48ac-b7e0-3c73ae17b748",
   "metadata": {},
   "outputs": [
    {
     "name": "stdout",
     "output_type": "stream",
     "text": [
      "result:\n",
      " fval=7.0, x_0=0.0, x_1=1.0, x_2=1.0, status=SUCCESS\n",
      "\n",
      " index of the chosen items: [1, 2]\n",
      "Elapsed time:  3.639291763305664\n"
     ]
    }
   ],
   "source": [
    "from qiskit.algorithms import VQE, QAOA, NumPyMinimumEigensolver\n",
    "\n",
    "start = time.time()\n",
    "seed = 123\n",
    "algorithm_globals.random_seed = seed\n",
    "qins = QuantumInstance(backend=Aer.get_backend('statevector_simulator'), seed_simulator=seed, seed_transpiler=seed)\n",
    "cobyla = COBYLA()\n",
    "cobyla.set_options(maxiter=250)\n",
    "\n",
    "meo = QAOA(optimizer=cobyla, reps=3, quantum_instance=qins)\n",
    "qaoa = MinimumEigenOptimizer(meo)\n",
    "result = qaoa.solve(quadratic_program)\n",
    "\n",
    "\n",
    "\n",
    "print('result:\\n', result)\n",
    "print('\\n index of the chosen items:', prob.interpret(result)) \n",
    "print(\"Elapsed time: \", time.time() - start)"
   ]
  },
  {
   "cell_type": "code",
   "execution_count": 22,
   "id": "99b12b85-3107-4be1-ad3b-2ecebbb35393",
   "metadata": {},
   "outputs": [
    {
     "name": "stdout",
     "output_type": "stream",
     "text": [
      "result:\n",
      " fval=7.0, x_0=0.0, x_1=1.0, x_2=1.0, status=SUCCESS\n",
      "\n",
      " index of the chosen items: [1, 2]\n",
      "Elapsed time:  0.49068784713745117\n"
     ]
    }
   ],
   "source": [
    "start = time.time()\n",
    "seed = 123\n",
    "algorithm_globals.random_seed = seed\n",
    "qins = QuantumInstance(backend=Aer.get_backend('qasm_simulator'), seed_simulator=seed, seed_transpiler=seed)\n",
    "\n",
    "meo = MinimumEigenOptimizer(min_eigen_solver=QAOA(reps=1, quantum_instance=qins))\n",
    "result = meo.solve(quadratic_program)\n",
    "print('result:\\n', result)\n",
    "print('\\n index of the chosen items:', prob.interpret(result)) \n",
    "print(\"Elapsed time: \", time.time() - start)"
   ]
  },
  {
   "cell_type": "markdown",
   "id": "c6b3070b-f9c8-4a78-9551-351a204788af",
   "metadata": {},
   "source": [
    "### Solving the problem using VQE (Variational Quantum Eigensolver)\n",
    "\n",
    "Another Quantum Optimization algorithm that can be used to solve our problem consists of the VQE. It is a hybrid algorithm that uses both classical and quantum computation to find the ground state of a given physical system.Given an initial guess, it calculates the expectation value of the system with respect to a Hamiltonian and a classical optimizer is used to improve the guess."
   ]
  },
  {
   "cell_type": "code",
   "execution_count": 21,
   "id": "9e1b27df-e61d-42d3-907e-b5a00a0b70b9",
   "metadata": {},
   "outputs": [
    {
     "name": "stdout",
     "output_type": "stream",
     "text": [
      "result:\n",
      " fval=7.0, x_0=0.0, x_1=1.0, x_2=1.0, status=SUCCESS\n",
      "\n",
      " index of the chosen items: [1, 2]\n",
      "Elapsed time:  1.2606267929077148\n"
     ]
    }
   ],
   "source": [
    "start = time.time()\n",
    "seed = 123\n",
    "algorithm_globals.random_seed = seed\n",
    "qins = QuantumInstance(backend=Aer.get_backend('qasm_simulator'), seed_simulator=seed, seed_transpiler=seed)\n",
    "\n",
    "meo = MinimumEigenOptimizer(min_eigen_solver=VQE(quantum_instance=qins))\n",
    "result = meo.solve(quadratic_program)\n",
    "print('result:\\n', result)\n",
    "print('\\n index of the chosen items:', prob.interpret(result)) \n",
    "print(\"Elapsed time: \", time.time() - start)"
   ]
  },
  {
   "cell_type": "markdown",
   "id": "159398bc-76e2-4073-9607-cdcd61c4cdd6",
   "metadata": {},
   "source": [
    "## Times for multiple items"
   ]
  },
  {
   "cell_type": "code",
   "execution_count": 62,
   "id": "9eeea582-3a97-4640-927c-f1bcd52c9cd3",
   "metadata": {},
   "outputs": [],
   "source": [
    "def prepare_quantum_knapsack(prob):\n",
    "    quadratic_program = prob.to_quadratic_program()\n",
    "    qubo = QuadraticProgramToQubo().convert(quadratic_program)\n",
    "    operator, offset = qubo.to_ising()\n",
    "    qubo, operator, matrix = get_operator_matrix(prob)\n",
    "    return quadratic_program, qubo, operator, matrix"
   ]
  },
  {
   "cell_type": "code",
   "execution_count": 92,
   "id": "f2102fc4-49de-43fb-b686-8df619ff6f1d",
   "metadata": {},
   "outputs": [],
   "source": [
    "computing_times_quantum = []\n",
    "\n",
    "i=1\n",
    "for k in knapsacks:\n",
    "    \n",
    "    items = k[0]\n",
    "    W=k[1]\n",
    "    WT, VAL = create_knapsack(items, W)\n",
    "    prob = Knapsack(values = VAL, weights = WT, max_weight=W)\n",
    "    \n",
    "    quadratic_program, qubo, operator, matrix = prepare_quantum_knapsack(prob)\n",
    "    \n",
    "    start = time.time()\n",
    "    seed = 123\n",
    "    algorithm_globals.random_seed = seed\n",
    "    qins = QuantumInstance(backend=Aer.get_backend('qasm_simulator'), seed_simulator=seed, seed_transpiler=seed)\n",
    "\n",
    "    meo = MinimumEigenOptimizer(min_eigen_solver=QAOA(reps=1, quantum_instance=qins))\n",
    "    result = meo.solve(quadratic_program)\n",
    "    \n",
    "    computing_times_quantum.append((i, len(k[0]) , result, prob.interpret(result), time.time() - start))\n",
    "    i+=1"
   ]
  },
  {
   "cell_type": "code",
   "execution_count": 93,
   "id": "1efbdb46-f290-4906-953a-9d578c2a0aa5",
   "metadata": {},
   "outputs": [
    {
     "name": "stdout",
     "output_type": "stream",
     "text": [
      "Knapsack  1 :    Number of items:  2  |  Result:  fval=4.0, x_0=1.0, x_1=0.0, status=SUCCESS  |  Items chosen:  [0]  |  Computing time:  0.4118311405181885\n",
      "Knapsack  2 :    Number of items:  3  |  Result:  fval=7.0, x_0=0.0, x_1=1.0, x_2=1.0, status=SUCCESS  |  Items chosen:  [1, 2]  |  Computing time:  0.5586342811584473\n",
      "Knapsack  3 :    Number of items:  5  |  Result:  fval=17.0, x_0=1.0, x_1=0.0, x_2=1.0, x_3=0.0, x_4=1.0, status=SUCCESS  |  Items chosen:  [0, 2, 4]  |  Computing time:  2.3582069873809814\n",
      "Knapsack  4 :    Number of items:  7  |  Result:  fval=22.0, x_0=1.0, x_1=1.0, x_2=1.0, x_3=0.0, x_4=1.0, x_5=1.0, x_6=0.0, status=SUCCESS  |  Items chosen:  [0, 1, 2, 4, 5]  |  Computing time:  4.181078910827637\n",
      "Knapsack  5 :    Number of items:  9  |  Result:  fval=23.0, x_0=1.0, x_1=1.0, x_2=1.0, x_3=0.0, x_4=1.0, x_5=1.0, x_6=1.0, x_7=0.0, x_8=0.0, status=SUCCESS  |  Items chosen:  [0, 1, 2, 4, 5, 6]  |  Computing time:  144.64752864837646\n"
     ]
    }
   ],
   "source": [
    "times_quantum = []\n",
    "for t in computing_times_quantum:\n",
    "    print(\n",
    "        \"Knapsack \", t[0], \":   \",\n",
    "        \"Number of items: \", t[1], \" | \",\n",
    "        \"Result: \", t[2], \" | \",\n",
    "        \"Items chosen: \", t[3], \" | \",\n",
    "        \"Computing time: \", t[4]\n",
    "    )\n",
    "    times_quantum.append((t[4]))"
   ]
  },
  {
   "cell_type": "code",
   "execution_count": 25,
   "id": "1fe678df-b88f-4a9f-8f24-5be7e55b927c",
   "metadata": {},
   "outputs": [],
   "source": [
    "computing_times_quantum_numpy = []\n",
    "\n",
    "i=1\n",
    "for k in knapsacks:\n",
    "    \n",
    "    items = k[0]\n",
    "    W=k[1]\n",
    "    WT, VAL = create_knapsack(items, W)\n",
    "    prob = Knapsack(values = VAL, weights = WT, max_weight=W)\n",
    "    \n",
    "    quadratic_program, qubo, operator, matrix = prepare_quantum_knapsack(prob)\n",
    "    \n",
    "    start = time.time()\n",
    "    meo = MinimumEigenOptimizer(min_eigen_solver=NumPyMinimumEigensolver())\n",
    "    result = meo.solve(quadratic_program)\n",
    "    \n",
    "    computing_times_quantum_numpy.append((i, len(k[0]) , result, prob.interpret(result), time.time() - start))\n",
    "    i+=1"
   ]
  },
  {
   "cell_type": "code",
   "execution_count": 26,
   "id": "6b6985e0-70c4-43a8-95e7-ec93a06b561e",
   "metadata": {},
   "outputs": [
    {
     "name": "stdout",
     "output_type": "stream",
     "text": [
      "Knapsack  1 :    Number of items:  2  |  Result:  fval=4.0, x_0=1.0, x_1=0.0, status=SUCCESS  |  Items chosen:  [0]  |  Computing time:  0.03841376304626465\n",
      "Knapsack  2 :    Number of items:  3  |  Result:  fval=7.0, x_0=0.0, x_1=1.0, x_2=1.0, status=SUCCESS  |  Items chosen:  [1, 2]  |  Computing time:  0.03138375282287598\n",
      "Knapsack  3 :    Number of items:  5  |  Result:  fval=17.0, x_0=1.0, x_1=0.0, x_2=1.0, x_3=0.0, x_4=1.0, status=SUCCESS  |  Items chosen:  [0, 2, 4]  |  Computing time:  0.06200909614562988\n",
      "Knapsack  4 :    Number of items:  7  |  Result:  fval=23.0, x_0=1.0, x_1=1.0, x_2=1.0, x_3=0.0, x_4=1.0, x_5=1.0, x_6=1.0, status=SUCCESS  |  Items chosen:  [0, 1, 2, 4, 5, 6]  |  Computing time:  0.13080835342407227\n",
      "Knapsack  5 :    Number of items:  9  |  Result:  fval=23.0, x_0=1.0, x_1=1.0, x_2=1.0, x_3=0.0, x_4=1.0, x_5=1.0, x_6=1.0, x_7=0.0, x_8=0.0, status=SUCCESS  |  Items chosen:  [0, 1, 2, 4, 5, 6]  |  Computing time:  0.4580976963043213\n"
     ]
    }
   ],
   "source": [
    "times_quantum_numpy = []\n",
    "for t in computing_times_quantum_numpy:\n",
    "    print(\n",
    "        \"Knapsack \", t[0], \":   \",\n",
    "        \"Number of items: \", t[1], \" | \",\n",
    "        \"Result: \", t[2], \" | \",\n",
    "        \"Items chosen: \", t[3], \" | \",\n",
    "        \"Computing time: \", t[4]\n",
    "    )\n",
    "    times_quantum_numpy.append((t[4]))"
   ]
  },
  {
   "cell_type": "code",
   "execution_count": 27,
   "id": "9efeeb87-4d3c-47cb-90d1-80c8ca419f01",
   "metadata": {},
   "outputs": [
    {
     "data": {
      "image/png": "[encoded data removed]",
      "text/plain": [
       "<Figure size 432x288 with 1 Axes>"
      ]
     },
     "metadata": {
      "needs_background": "light"
     },
     "output_type": "display_data"
    },
    {
     "data": {
      "image/png": "[encoded data removed]",
      "text/plain": [
       "<Figure size 432x288 with 1 Axes>"
      ]
     },
     "metadata": {
      "needs_background": "light"
     },
     "output_type": "display_data"
    }
   ],
   "source": [
    "plt.plot(times, label = \"Classic\")\n",
    "plt.plot(times_quantum, label = \"QOAO\")\n",
    "plt.plot(times_quantum_numpy, label = \"MinimumEigenOptimizer\")\n",
    "plt.legend()\n",
    "plt.show()\n",
    "\n",
    "plt.plot(times, label = \"Classic\")\n",
    "# plt.plot(times_quantum, label = \"QOAO\")\n",
    "plt.plot(times_quantum_numpy, label = \"MinimumEigenOptimizer\")\n",
    "plt.legend()\n",
    "plt.show()"
   ]
  },
  {
   "cell_type": "markdown",
   "id": "f042204c-7ad3-479d-b5ef-a4a090af31cf",
   "metadata": {},
   "source": [
    "## Running on a Quantum Computer"
   ]
  },
  {
   "cell_type": "markdown",
   "id": "1f780491-1c81-4dd9-bdf6-6827ac257473",
   "metadata": {},
   "source": [
    "Let's test our solutions on a real quantum computer.\n",
    "\n",
    "In this case, it is important to remember that real quantum computers have a qubit number limitation to run programs. Most quantum systems available at IBM for free have a limitation of a maximum of 5 qubits per application. However, the ibm_oslo and ibm_nairobi are able to run programs with up to 7 qubits. The specifications and current number of pending jobs at each IBM available system are described in the following link. Using it we can also check the least busy quantum system with this specification (7 qubits maximum):\n",
    "\n",
    "https://quantum-computing.ibm.com/services/resources?tab=yours&status=Online&resourceType=systems"
   ]
  },
  {
   "cell_type": "code",
   "execution_count": 30,
   "id": "85c7a355-8850-4704-89d7-f728b9af9fb6",
   "metadata": {},
   "outputs": [
    {
     "name": "stdout",
     "output_type": "stream",
     "text": [
      "Knapsack  1 :    Number of items:  2  |  Result:  fval=4.0, x_0=1.0, x_1=0.0, status=SUCCESS  |  Items chosen:  [0]  |  Computing time:  13028.820293188095\n"
     ]
    }
   ],
   "source": [
    "times_quantum_real = []\n",
    "for t in computing_times_real_quantum:\n",
    "    print(\n",
    "        \"Knapsack \", t[0], \":   \",\n",
    "        \"Number of items: \", t[1], \" | \",\n",
    "        \"Result: \", t[2], \" | \",\n",
    "        \"Items chosen: \", t[3], \" | \",\n",
    "        \"Computing time: \", t[4]\n",
    "    )\n",
    "    times_quantum_real.append((t[4]))"
   ]
  },
  {
   "cell_type": "code",
   "execution_count": 30,
   "id": "d34519f3-557e-4510-8fd3-dad782417f97",
   "metadata": {},
   "outputs": [
    {
     "data": {
      "application/vnd.jupyter.widget-view+json": {
       "model_id": "afce0b7a5dc64d16b7f4b8d79c17ba9a",
       "version_major": 2,
       "version_minor": 0
      },
      "text/plain": [
       "VBox(children=(HTML(value=\"<h1 style='color:#ffffff;background-color:#000000;padding-top: 1%;padding-bottom: 1…"
      ]
     },
     "metadata": {},
     "output_type": "display_data"
    },
    {
     "data": {
      "text/plain": [
       "<IBMQBackend('ibm_oslo') from IBMQ(hub='ibm-q', group='open', project='main')>"
      ]
     },
     "execution_count": 30,
     "metadata": {},
     "output_type": "execute_result"
    }
   ],
   "source": [
    "backend = provider.get_backend('ibm_oslo')\n",
    "# backend = provider.get_backend('ibmq_manila')\n",
    "backend"
   ]
  },
  {
   "cell_type": "code",
   "execution_count": 31,
   "id": "bea1f05c-1c14-432e-880a-2df428b19ef7",
   "metadata": {},
   "outputs": [
    {
     "name": "stdout",
     "output_type": "stream",
     "text": [
      "Qubit number limitation\n",
      "Qubit number limitation\n",
      "Qubit number limitation\n"
     ]
    }
   ],
   "source": [
    "computing_times_real_quantum = []\n",
    "\n",
    "i=1\n",
    "for k in knapsacks:\n",
    "    items = k[0]\n",
    "    W=k[1]\n",
    "    WT, VAL = create_knapsack(items, W)\n",
    "    prob = Knapsack(values = VAL, weights = WT, max_weight=W)\n",
    "    \n",
    "    quadratic_program, qubo, operator, matrix = prepare_quantum_knapsack(prob)\n",
    "    \n",
    "    try:\n",
    "        start = time.time()\n",
    "        meo = MinimumEigenOptimizer(min_eigen_solver=QAOA(reps=1, quantum_instance=backend))\n",
    "        result = meo.solve(quadratic_program)\n",
    "\n",
    "        computing_times_real_quantum.append((i, len(k[0]) , result, prob.interpret(result), time.time() - start))\n",
    "    except:\n",
    "        print(\"Qubit number limitation\")\n",
    "    i+=1"
   ]
  },
  {
   "cell_type": "code",
   "execution_count": 32,
   "id": "03f76f49-1b5b-479d-a8ef-c3e911ed9b13",
   "metadata": {},
   "outputs": [
    {
     "name": "stdout",
     "output_type": "stream",
     "text": [
      "Knapsack  1 :    Number of items:  2  |  Result:  fval=4.0, x_0=1.0, x_1=0.0, status=SUCCESS  |  Items chosen:  [0]  |  Computing time:  6041.067609548569\n",
      "Knapsack  2 :    Number of items:  3  |  Result:  fval=7.0, x_0=0.0, x_1=1.0, x_2=1.0, status=SUCCESS  |  Items chosen:  [1, 2]  |  Computing time:  4203.031319856644\n"
     ]
    }
   ],
   "source": [
    "times_quantum_real = []\n",
    "for t in computing_times_real_quantum:\n",
    "    print(\n",
    "        \"Knapsack \", t[0], \":   \",\n",
    "        \"Number of items: \", t[1], \" | \",\n",
    "        \"Result: \", t[2], \" | \",\n",
    "        \"Items chosen: \", t[3], \" | \",\n",
    "        \"Computing time: \", t[4]\n",
    "    )\n",
    "    times_quantum_real.append((t[4]))"
   ]
  },
  {
   "cell_type": "markdown",
   "id": "ba119d1c-3083-4ec2-82ae-87c49c5ebbae",
   "metadata": {},
   "source": [
    "--------------"
   ]
  },
  {
   "cell_type": "markdown",
   "id": "cfbdbd2e-9e6e-42af-b89c-77c1c84ee29c",
   "metadata": {
    "tags": []
   },
   "source": [
    "## Solving the Knapsack problem using an Oracle"
   ]
  },
  {
   "cell_type": "markdown",
   "id": "8b1ec18d-de20-4cfb-bcc4-5402159ce574",
   "metadata": {},
   "source": [
    "Another possible solution for the Knapsack Problem can be implemented by creating an oracle. This oracle can basically state if a given solution is valid or not. The function implemented in the following performs the summation of the weights. If this value is lower than the defined weight limitation, it returns the sum of the values.\n",
    "\n",
    "We must also ensure reversibility. That means a unique input must result in a unique output. We can do this by including a copy of the input in the output."
   ]
  },
  {
   "cell_type": "code",
   "execution_count": 17,
   "id": "021b4e8c-1bd8-46c7-9275-b3d1a685c27b",
   "metadata": {},
   "outputs": [
    {
     "name": "stdout",
     "output_type": "stream",
     "text": [
      "---------------  Knapsack  --------------- \n",
      " Values:  [12, 6, 7, 2, 10, 3, 1, 4, 3, 5] \n",
      " Weights:  [3, 2, 3, 4, 5, 1, 1, 9, 8, 3] \n",
      " Max Weight:  10\n"
     ]
    }
   ],
   "source": [
    "## Our original Knapsack example\n",
    "print(\n",
    "\"-\"*15, \" Knapsack \" ,\"-\"*15, \"\\n\",\n",
    "\"Values: \", prob._values,\"\\n\",\n",
    "\"Weights: \", prob._weights,\"\\n\",\n",
    "\"Max Weight: \", prob.max_weight,\n",
    "\n",
    ")"
   ]
  },
  {
   "cell_type": "code",
   "execution_count": 18,
   "id": "68bedab8-0fa8-41d0-ab09-2109519fd161",
   "metadata": {},
   "outputs": [],
   "source": [
    "def oracle(prob):\n",
    "    values = prob._values\n",
    "    weights =  prob._weights\n",
    "    max_weight = prob.max_weight\n",
    "    \n",
    "    if np.sum(weights)<=max_weight:\n",
    "        ## The oracle should return the original arguments to be reversible\n",
    "        return prob, np.sum(values)\n",
    "    else:\n",
    "        return prob, -1"
   ]
  },
  {
   "cell_type": "markdown",
   "id": "6c65d3f1-1537-4155-903a-227de126d4ea",
   "metadata": {},
   "source": [
    "Using our oracle, we can create a function to test all possible knapsack solutions. That means, we can create vectors related to all entry possibilities, in which each position is related to an item. For each item, we can:\n",
    "* include it in the knapsack (value equals 1)\n",
    "\n",
    "                    OR\n",
    "\n",
    "* exclude it from the knapsack (value equals 0)\n",
    "\n",
    "This means, we will generate $2^n$ binary vectors of length corresponding to the number of items we have.\n",
    "\n",
    "We can then use these vectors as a reference for entry vectors to apply our oracle.\n",
    "\n",
    "The oracle will tell us whether a solution is viable or not and, if so, it will also provide us with the sum of all values from the items of the given knapsack.\n",
    "\n",
    "We can then compare all generated solutions and get the max value, which will correspond to the optimal solution of our knapsack."
   ]
  },
  {
   "cell_type": "code",
   "execution_count": 19,
   "id": "6f2d8117-20fc-4d14-bd5c-27f7e075809d",
   "metadata": {},
   "outputs": [],
   "source": [
    "def solve_knapsack(prob):\n",
    "    all_combinations = (list(itertools.product([0, 1], repeat=len(prob._values))))\n",
    "    all_solutions = []\n",
    "    for comb in all_combinations:\n",
    "        val = []\n",
    "        wt = []\n",
    "        indexes = []\n",
    "        for i,c in enumerate(comb):\n",
    "            if c != 0:\n",
    "                indexes.append(i)\n",
    "                val.append(prob._values[i])\n",
    "                wt.append(prob._weights[i])\n",
    "        sub_prob = Knapsack(values = val, weights = wt, max_weight=W)\n",
    "        solution = oracle(sub_prob)[1]\n",
    "        if solution != -1:\n",
    "            all_solutions.append((indexes, solution))\n",
    "            \n",
    "    values = [v[1] for v in all_solutions]\n",
    "    best_sol = max(values)\n",
    "    solutions = []\n",
    "    for s in all_solutions:\n",
    "        if int(s[1]) == int(best_sol):\n",
    "            solutions.append(s)\n",
    "    return solutions\n"
   ]
  },
  {
   "cell_type": "code",
   "execution_count": 20,
   "id": "1851072f-5f77-40d2-aab8-2757841456d1",
   "metadata": {},
   "outputs": [
    {
     "name": "stdout",
     "output_type": "stream",
     "text": [
      "([0, 1, 2, 5, 6], 29)\n"
     ]
    }
   ],
   "source": [
    "solutions = solve_knapsack(prob)\n",
    "for s in solutions:\n",
    "    print(s)"
   ]
  },
  {
   "cell_type": "markdown",
   "id": "95855154-252a-412b-bb0c-1ac5e5d56163",
   "metadata": {},
   "source": [
    "The solution implemented above is in no way an efficient one. All the possibilities need to be previously generated and then calculated. For knapsack instances with a small number of items this may not be perceived as a problem. However, as the number of items increases, the algorithm may take too long to provide a solution. In an even worse scenario, if the count of items grows significantly, the solution may run indefinitely and not provide any results.\n",
    "\n",
    "A possible way to optimize this is with the help of Quantum Computing. With the help of Hadamard gates, we may create a superposition of states 0 and 1. That means we can simultaneously include and exclude each item from the knapsack. It also means we would not need to generate all possible solution and test each one of them. Consequently, the computational complexity is expected to decrease and we should be able to solve the problem in a considerably smaller amount of time."
   ]
  },
  {
   "cell_type": "markdown",
   "id": "1967d623-9d8e-4185-8cc9-2380439e9a72",
   "metadata": {
    "tags": []
   },
   "source": [
    "## Alternative implementation of oracle using Quantum based addition"
   ]
  },
  {
   "cell_type": "markdown",
   "id": "ffe80d72-cc48-49ca-8c07-891299ceb7f8",
   "metadata": {},
   "source": [
    "We can also create a quantum solution similar to the one previously described with the help of an addition circuit."
   ]
  },
  {
   "cell_type": "code",
   "execution_count": 21,
   "id": "c0fc78cd-5bc6-4d04-ba1b-dd2c9a328ada",
   "metadata": {},
   "outputs": [],
   "source": [
    "def add(n1,n2, display_circuit=False): \n",
    "       \n",
    "    b1 = str(bin(n1))[2:]\n",
    "    b2 = str(bin(n2))[2:]\n",
    "    \n",
    "    b1 = ((len(b1)//2)+1)*'0' + b1\n",
    "    b2 = ((len(b2)//2)+1)*'0' + b2\n",
    "    \n",
    "    n=max(len(b1),len(b2))\n",
    "         \n",
    "    #create a quantum circuit\n",
    "    reg_n1=QuantumRegister(n,'n1')\n",
    "    reg_n2=QuantumRegister(n,'n2')\n",
    "    # carry_reg=QuantumRegister(1,'carry')\n",
    "    classic_reg=ClassicalRegister(n,'classic')\n",
    "    qc=QuantumCircuit(reg_n1,reg_n2,classic_reg)\n",
    "    \n",
    "    initial_state = [1,0]   \n",
    "    for j in range(2*n):\n",
    "        qc.initialize(initial_state, j) \n",
    "    \n",
    "    for i in range(0,len(b1)):\n",
    "        if int(b1[i]) == 1:\n",
    "            qc.x(len(b1)-1-i)\n",
    "    for i in range(0,len(b2)):\n",
    "        if int(b2[i]) == 1:\n",
    "            qc.x(n+(len(b2)-1-i))\n",
    "            \n",
    "    qc.append(QFT(n, do_swaps=False),[i for i in range(n)])\n",
    "    for i in range(n):\n",
    "        for j in range(i+1):  \n",
    "            qc.cp(math.pi/2**(i-j),reg_n2[j],reg_n1[i])\n",
    "\n",
    "    qc.append(QFT(n, do_swaps=False).inverse(),[i for i in range(n)])\n",
    "    for i in range(n):\n",
    "        qc.measure(i,i)\n",
    "        \n",
    "    if display_circuit:\n",
    "        display(qc.draw())\n",
    "   \n",
    "    shots_num = 10000\n",
    "    job = execute(qc, Aer.get_backend(\"qasm_simulator\"), shots = shots_num)\n",
    "\n",
    "    result = job.result()\n",
    "    counts = result.get_counts()\n",
    "    \n",
    "    if int(list(counts.keys())[0],2)<n1 or int(list(counts.keys())[0],2)<n2:\n",
    "        shots_num = 10000\n",
    "        job = execute(qc, Aer.get_backend(\"qasm_simulator\"), shots = shots_num)\n",
    "\n",
    "        result = job.result()\n",
    "        counts = result.get_counts()\n",
    "    number_result = int(list(counts.keys())[0],2)\n",
    "    \n",
    "    return number_result"
   ]
  },
  {
   "cell_type": "code",
   "execution_count": 22,
   "id": "ecee0aa0-ec4f-4436-8ed2-5be4f6e92d26",
   "metadata": {},
   "outputs": [
    {
     "data": {
      "image/png": "[encoded data removed]",
      "text/plain": [
       "<Figure size 1574.08x565.88 with 1 Axes>"
      ]
     },
     "metadata": {},
     "output_type": "display_data"
    },
    {
     "data": {
      "text/plain": [
       "5"
      ]
     },
     "execution_count": 22,
     "metadata": {},
     "output_type": "execute_result"
    }
   ],
   "source": [
    "## Addition example\n",
    "add(2,3, display_circuit=True)"
   ]
  },
  {
   "cell_type": "markdown",
   "id": "747dc7e9-91fa-496a-8c84-e1ce0ff96d82",
   "metadata": {},
   "source": [
    "In the following, an alternative solution to the Knapsack problem is presented, based on an heuristic approach. Though simpler, this solution may not provide an optimal result."
   ]
  },
  {
   "cell_type": "code",
   "execution_count": 23,
   "id": "d27aa62f-7aad-46e3-8ec0-9c55f6152ee4",
   "metadata": {},
   "outputs": [],
   "source": [
    "def quantum_heuristic_knapsack(max_weight, items):\n",
    "    knapsack_value = 0\n",
    "    knapsack_weight = 0\n",
    "    selected_items=[]\n",
    "    sorted_by_weight = sorted(items, key=lambda tup: tup[0])\n",
    "\n",
    "    for pos,item in enumerate(sorted_by_weight):\n",
    "        x =  add(item[0],knapsack_weight)\n",
    "        print(knapsack_weight,item[0],x)\n",
    "        if x <= max_weight:\n",
    "            print(\"adding item\")\n",
    "            knapsack_value = add(item[1], knapsack_value)\n",
    "            knapsack_weight = x\n",
    "            selected_items.append(pos)\n",
    "        else:\n",
    "            print(\"weight limit reached\")\n",
    "            break\n",
    "    \n",
    "    return selected_items, items\n",
    "    \n",
    "    "
   ]
  },
  {
   "cell_type": "code",
   "execution_count": 24,
   "id": "bf2010b9-2919-4187-8550-b04cc27c7689",
   "metadata": {},
   "outputs": [
    {
     "name": "stdout",
     "output_type": "stream",
     "text": [
      "0 1 1\n",
      "adding item\n",
      "1 1 2\n",
      "adding item\n",
      "2 2 4\n",
      "adding item\n",
      "4 3 7\n",
      "adding item\n",
      "7 3 10\n",
      "adding item\n",
      "10 3 13\n",
      "weight limit reached\n"
     ]
    },
    {
     "data": {
      "text/plain": [
       "([0, 1, 2, 3, 4],\n",
       " [(3, 12),\n",
       "  (2, 6),\n",
       "  (3, 7),\n",
       "  (4, 2),\n",
       "  (5, 10),\n",
       "  (1, 3),\n",
       "  (1, 1),\n",
       "  (9, 4),\n",
       "  (8, 3),\n",
       "  (3, 5)])"
      ]
     },
     "execution_count": 24,
     "metadata": {},
     "output_type": "execute_result"
    }
   ],
   "source": [
    "quantum_heuristic_knapsack(10, example_items)"
   ]
  },
  {
   "cell_type": "markdown",
   "id": "89377466-fc09-4351-a380-8a7c47ec84ad",
   "metadata": {
    "tags": []
   },
   "source": [
    "# References \n",
    "\n",
    "https://iopscience.iop.org/article/10.1088/1742-6596/735/1/012083/pdf\n",
    "\n",
    "https://github.com/qiskit-community/ibm-quantum-challenge-fall-2021/blob/main/solutions-by-authors/challenge-4/challenge-4.ipynb\n",
    "\n",
    "https://qiskit.org/documentation/stable/0.25/_modules/qiskit/optimization/applications/ising/knapsack.html#get_operator\n",
    "\n",
    "https://github.com/Qiskit/qiskit-optimization/blob/main/docs/tutorials/06_examples_max_cut_and_tsp.ipynb"
   ]
  },
  {
   "cell_type": "code",
   "execution_count": null,
   "id": "5ef5c577-b0ec-492e-bc7e-3b2b68ba2287",
   "metadata": {},
   "outputs": [],
   "source": []
  }
 ],
 "metadata": {
  "kernelspec": {
   "display_name": "Python 3 (ipykernel)",
   "language": "python",
   "name": "python3"
  },
  "language_info": {
   "codemirror_mode": {
    "name": "ipython",
    "version": 3
   },
   "file_extension": ".py",
   "mimetype": "text/x-python",
   "name": "python",
   "nbconvert_exporter": "python",
   "pygments_lexer": "ipython3",
   "version": "3.8.13"
  },
  "widgets": {
   "application/vnd.jupyter.widget-state+json": {
    "state": {},
    "version_major": 2,
    "version_minor": 0
   }
  }
 },
 "nbformat": 4,
 "nbformat_minor": 5
}
